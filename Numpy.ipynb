{
  "cells": [
    {
      "cell_type": "markdown",
      "source": [
        "# Numpy Assignment\n",
        "\n",
        "---\n",
        "\n",
        "**Instructions**\n",
        "\n",
        "1. **Read Each Question Carefully**: Understand what each question is asking before starting.\n",
        "\n",
        "2. **Complete the Functions**: For each question, you’ll find a partially completed function in the code cell. Fill in the missing parts to complete the function according to the requirements.\n",
        "\n",
        "3. **Test Your Function**: After completing each function, run the cell to test if your function works correctly.\n",
        "\n",
        "4. **Answer All Questions**: Ensure you complete all functions. Each question targets different aspects of NumPy.\n",
        "\n",
        "5. **Download Your Notebook**: Once you’ve finished and tested all functions, download your notebook file (.ipynb) by selecting `File > Download > Download .ipynb`.\n",
        "\n",
        "6. **Submit Your Work**: Upload the downloaded `.ipynb` file to the designated platform for submission.\n",
        "\n",
        "7. **Verify Your Submission**: Check that you have submitted the correct file and that it is not corrupted. Resubmit if necessary.\n",
        "\n",
        "* Note: Don't change or replace any of the given arrays or variables, use it as given and write your code.\n",
        "\n",
        "Good luck, and happy coding!\n",
        "\n",
        "---"
      ],
      "metadata": {
        "id": "1YVvTn6g4_82"
      },
      "id": "1YVvTn6g4_82"
    },
    {
      "cell_type": "markdown",
      "source": [
        "## Import library\n",
        "- Do not modify the given attributes. Execute the below code cells sequencially to get the data."
      ],
      "metadata": {
        "id": "Hf2Wc35UgGD2"
      },
      "id": "Hf2Wc35UgGD2"
    },
    {
      "cell_type": "code",
      "source": [
        "import numpy as np"
      ],
      "metadata": {
        "id": "q3ewF8Feybym"
      },
      "id": "q3ewF8Feybym",
      "execution_count": null,
      "outputs": []
    },
    {
      "cell_type": "markdown",
      "id": "45fcc706",
      "metadata": {
        "id": "45fcc706"
      },
      "source": [
        "---\n",
        "---\n",
        "**1.Complete the given code which takes an array of salaries as input and prints mean, median of the salaries** <br>\n",
        "- Input : An array of salaries <br>\n",
        "- Output : mean, median (print in single same order)"
      ]
    },
    {
      "cell_type": "code",
      "source": [
        "import numpy as np\n",
        "salaries = np.array([50000, 60000, 70000, 80000, 90000, 100000, 110000, 50000])\n",
        "\n",
        "calculate_mean = np.mean(salaries)\n",
        "median = np.median(salaries)\n",
        "\n",
        "print(calculate_mean, median)"
      ],
      "metadata": {
        "colab": {
          "base_uri": "https://localhost:8080/"
        },
        "id": "Hxjbtix6zoXt",
        "outputId": "aa9d75ff-b945-4eec-c792-290c80392140"
      },
      "id": "Hxjbtix6zoXt",
      "execution_count": null,
      "outputs": [
        {
          "output_type": "stream",
          "name": "stdout",
          "text": [
            "76250.0 75000.0\n"
          ]
        }
      ]
    },
    {
      "cell_type": "markdown",
      "source": [
        "---\n",
        "---\n",
        "**2. Complete the given code which takes an array of salaries as input and prints variance and standard deviation of the salaries with 2 decimals** <br>\n",
        "- Input  : An array of salaries <br>\n",
        "- Output : variance"
      ],
      "metadata": {
        "id": "KWO0koAQ1Sp-"
      },
      "id": "KWO0koAQ1Sp-"
    },
    {
      "cell_type": "code",
      "source": [
        "salaries = np.array([50000, 60000, 70000, 80000, 90000, 100000, 110000, 50000])\n",
        "\n",
        "variance = round(np.var(salaries),2)\n",
        "standard_deviation = round(np.std(salaries),2)\n",
        "\n",
        "print(variance, standard_deviation)"
      ],
      "metadata": {
        "colab": {
          "base_uri": "https://localhost:8080/"
        },
        "id": "UzvcQiJezq9t",
        "outputId": "1daa6e08-5155-4f60-b516-a8af5cd2933d"
      },
      "id": "UzvcQiJezq9t",
      "execution_count": null,
      "outputs": [
        {
          "output_type": "stream",
          "name": "stdout",
          "text": [
            "448437500.0 21176.34\n"
          ]
        }
      ]
    },
    {
      "cell_type": "markdown",
      "id": "4403d0f3",
      "metadata": {
        "id": "4403d0f3"
      },
      "source": [
        "---\n",
        "---\n",
        "**3. Write a code to get the quartiles (Q1, Q2, Q3) of an array of salaries.** <br>\n",
        "- Input  : An array of salaries <br>\n",
        "- Output : q1, q2, q3"
      ]
    },
    {
      "cell_type": "code",
      "source": [
        "salaries = np.array([50000, 60000, 70000, 80000, 90000, 100000, 110000, 50000])\n",
        "\n",
        "q1 = np.percentile(salaries, 25)\n",
        "q2 = np.percentile(salaries, 50)\n",
        "q3 = np.percentile(salaries, 75)\n",
        "\n",
        "print(q1, q2, q3)"
      ],
      "metadata": {
        "colab": {
          "base_uri": "https://localhost:8080/"
        },
        "id": "_YZrxOhWzsdy",
        "outputId": "26eed35b-62ec-4a96-cb7d-bfbd10617411"
      },
      "id": "_YZrxOhWzsdy",
      "execution_count": null,
      "outputs": [
        {
          "output_type": "stream",
          "name": "stdout",
          "text": [
            "57500.0 75000.0 92500.0\n"
          ]
        }
      ]
    },
    {
      "cell_type": "markdown",
      "id": "a4292c15",
      "metadata": {
        "id": "a4292c15"
      },
      "source": [
        "---\n",
        "---\n",
        "**4. Write a code to get the z_scores which takes the given *nums* array as input and returns an array having the z_scores of all elements** <br>\n",
        "- Input  : An array of elements (Use only the given array) <br>\n",
        "- Output : An array having **z_scores**\n",
        "\n",
        "*Hints: First calculate the mean and standard deviation to compute the z_scores*"
      ]
    },
    {
      "cell_type": "code",
      "source": [
        "nums = np.array([10, 20, 0, 40, 50, 60])\n",
        "\n",
        "# get the mean of the given array to calculate the z_scores\n",
        "mean = np.mean(nums)\n",
        "\n",
        "# Calculate the standard deviation of the given array to calculate the z_scores\n",
        "std_dev = np.std(nums)\n",
        "\n",
        "# Compute the z-scores\n",
        "z_scores = (nums - mean) / std_dev\n",
        "\n",
        "print(z_scores)"
      ],
      "metadata": {
        "colab": {
          "base_uri": "https://localhost:8080/"
        },
        "id": "hQMqy1dzzuc6",
        "outputId": "3eed2f1b-0264-4bd1-8237-19c47b3df3e9"
      },
      "id": "hQMqy1dzzuc6",
      "execution_count": null,
      "outputs": [
        {
          "output_type": "stream",
          "name": "stdout",
          "text": [
            "[-0.9258201  -0.46291005 -1.38873015  0.46291005  0.9258201   1.38873015]\n"
          ]
        }
      ]
    },
    {
      "cell_type": "markdown",
      "id": "a8aad42f",
      "metadata": {
        "id": "a8aad42f"
      },
      "source": [
        "---\n",
        "---\n",
        "**5. Write a code to get the variance which takes the given array of salaries and returns the variance without using the inbuilt variance function.** <br>\n",
        " - Input  : An array of salaries\n",
        " - Output : variance\n",
        "\n",
        " use the formula - variance = sum ((xi - μ)^2) / N"
      ]
    },
    {
      "cell_type": "code",
      "source": [
        "salaries = np.array([50000, 60000, 70000, 80000, 90000, 100000, 110000, 50000])\n",
        "\n",
        "# write your code here to calculate the mean of the array\n",
        "mean = np.mean(salaries)\n",
        "\n",
        "# Compute the variance using the formula: variance = sum((x - μ)^2) / N\n",
        "var = round(np.sum((salaries - mean) ** 2) / len(salaries),2)\n",
        "\n",
        "print(var)"
      ],
      "metadata": {
        "colab": {
          "base_uri": "https://localhost:8080/"
        },
        "id": "RstGc8Tazv9L",
        "outputId": "469a7ca5-f639-4363-8557-086eb460e347"
      },
      "id": "RstGc8Tazv9L",
      "execution_count": null,
      "outputs": [
        {
          "output_type": "stream",
          "name": "stdout",
          "text": [
            "448437500.0\n"
          ]
        }
      ]
    },
    {
      "cell_type": "markdown",
      "id": "6ca4ad74",
      "metadata": {
        "id": "6ca4ad74"
      },
      "source": [
        "---\n",
        "---\n",
        "**6. Write a code to get the comp_salaries which takes the given array of salaries and returns all salaries which are higher than the mean salary.** <br>\n",
        " - Input  : An array of salaries\n",
        " - Output : An array of salaries higher than the mean"
      ]
    },
    {
      "cell_type": "code",
      "source": [
        "salaries = np.array([50000, 60000, 70000, 80000, 90000, 100000, 110000, 50000])\n",
        "\n",
        "# write your code here to Calculate the mean of the salaries\n",
        "mean_salary = np.mean(salaries)\n",
        "\n",
        "# Find all salaries higher than the mean\n",
        "higher_salaries = salaries[salaries > mean_salary]\n",
        "\n",
        "print(higher_salaries)"
      ],
      "metadata": {
        "colab": {
          "base_uri": "https://localhost:8080/"
        },
        "id": "iiCpxXw1zxgs",
        "outputId": "f8461b30-e415-4162-d9e8-7dab2b78cd77"
      },
      "id": "iiCpxXw1zxgs",
      "execution_count": null,
      "outputs": [
        {
          "output_type": "stream",
          "name": "stdout",
          "text": [
            "[ 80000  90000 100000 110000]\n"
          ]
        }
      ]
    },
    {
      "cell_type": "markdown",
      "id": "3b1cfa5e",
      "metadata": {
        "id": "3b1cfa5e"
      },
      "source": [
        "---\n",
        "---\n",
        "**7. Write a code to get the cum_sum_diff which takes two given arrays of same size and returns the difference between cumulative sums at each position.** <br>\n",
        "- Input  : Use the given two arrays\n",
        "- Output : difference in cumulative sums\n",
        "\n"
      ]
    },
    {
      "cell_type": "code",
      "source": [
        "a1 = np.array([10,12,14,8,7,9,20])\n",
        "a2 = np.array([12,11,8,10,9,13,7])\n",
        "\n",
        "# write your code here to compute cumulative sums\n",
        "cumsum_a1 = np.cumsum(a1)\n",
        "cumsum_a2 = np.cumsum(a2)\n",
        "# Compute difference\n",
        "diff = cumsum_a1 - cumsum_a2\n",
        "\n",
        "print(diff)"
      ],
      "metadata": {
        "colab": {
          "base_uri": "https://localhost:8080/"
        },
        "id": "5xR9Gcl8zzEj",
        "outputId": "ae4de0ba-c911-4343-a62f-80e29e5cb9f4"
      },
      "id": "5xR9Gcl8zzEj",
      "execution_count": null,
      "outputs": [
        {
          "output_type": "stream",
          "name": "stdout",
          "text": [
            "[-2 -1  5  3  1 -3 10]\n"
          ]
        }
      ]
    },
    {
      "cell_type": "markdown",
      "id": "2addb776",
      "metadata": {
        "id": "2addb776"
      },
      "source": [
        "---\n",
        "---\n",
        "**8. Given two arrays a1 and a2 of shape (4, 3) with integers between 10 to 50 (inclusive) and concatenate them along axis 0.**"
      ]
    },
    {
      "cell_type": "code",
      "source": [
        "a1 = np.array([[10, 20, 30], [15, 25, 35], [40, 50, 45], [30, 35, 40]])\n",
        "a2 = np.array([[12, 22, 32], [17, 27, 37], [42, 47, 52], [31, 36, 41]])\n",
        "\n",
        "concatenated = np.concatenate((a1, a2), axis=0)\n",
        "\n",
        "print(concatenated)"
      ],
      "metadata": {
        "colab": {
          "base_uri": "https://localhost:8080/"
        },
        "id": "KyLW1SFGz0RS",
        "outputId": "7f9f43d2-f906-4f77-d7ef-64f7a3e093cb"
      },
      "id": "KyLW1SFGz0RS",
      "execution_count": null,
      "outputs": [
        {
          "output_type": "stream",
          "name": "stdout",
          "text": [
            "[[10 20 30]\n",
            " [15 25 35]\n",
            " [40 50 45]\n",
            " [30 35 40]\n",
            " [12 22 32]\n",
            " [17 27 37]\n",
            " [42 47 52]\n",
            " [31 36 41]]\n"
          ]
        }
      ]
    },
    {
      "cell_type": "markdown",
      "source": [
        "**9. Write a code to calculate the interquartile range (IQR) of given array of salaries.**"
      ],
      "metadata": {
        "id": "Xf8RPt6Wt543"
      },
      "id": "Xf8RPt6Wt543"
    },
    {
      "cell_type": "code",
      "source": [
        "salaries = np.array([50000, 60000, 70000, 80000, 90000, 100000])\n",
        "\n",
        "q1 = np.percentile(salaries, 25)\n",
        "q3 = np.percentile(salaries, 75)\n",
        "iqr = q3 - q1\n",
        "\n",
        "print(iqr)"
      ],
      "metadata": {
        "colab": {
          "base_uri": "https://localhost:8080/"
        },
        "id": "TlbNOvfpz1uP",
        "outputId": "0a29bdc7-ac52-4ddf-95d6-dfde10d08d4b"
      },
      "id": "TlbNOvfpz1uP",
      "execution_count": null,
      "outputs": [
        {
          "output_type": "stream",
          "name": "stdout",
          "text": [
            "25000.0\n"
          ]
        }
      ]
    },
    {
      "cell_type": "markdown",
      "source": [
        "**10. Given a 2D NumPy array a1 with shape (4, 3), reshape it into a 2D array with 2 rows and 6 columns.**"
      ],
      "metadata": {
        "id": "VR9xKKlMvfDY"
      },
      "id": "VR9xKKlMvfDY"
    },
    {
      "cell_type": "code",
      "source": [
        "a1 = np.array([[10, 20, 30], [15, 25, 35], [40, 50, 45], [30, 35, 40]])\n",
        "\n",
        "reshaped_array = np.reshape(a1, (2, 6))\n",
        "\n",
        "print(reshaped_array)"
      ],
      "metadata": {
        "colab": {
          "base_uri": "https://localhost:8080/"
        },
        "id": "sQQrmpZOz4mN",
        "outputId": "98087eda-8fbd-4eeb-d015-e18d44238efc"
      },
      "id": "sQQrmpZOz4mN",
      "execution_count": null,
      "outputs": [
        {
          "output_type": "stream",
          "name": "stdout",
          "text": [
            "[[10 20 30 15 25 35]\n",
            " [40 50 45 30 35 40]]\n"
          ]
        }
      ]
    },
    {
      "cell_type": "markdown",
      "source": [
        "## --- END ---"
      ],
      "metadata": {
        "id": "nliBq_y7Jp11"
      },
      "id": "nliBq_y7Jp11"
    }
  ],
  "metadata": {
    "kernelspec": {
      "display_name": "Python 3 (ipykernel)",
      "language": "python",
      "name": "python3"
    },
    "language_info": {
      "codemirror_mode": {
        "name": "ipython",
        "version": 3
      },
      "file_extension": ".py",
      "mimetype": "text/x-python",
      "name": "python",
      "nbconvert_exporter": "python",
      "pygments_lexer": "ipython3",
      "version": "3.9.7"
    },
    "colab": {
      "provenance": []
    }
  },
  "nbformat": 4,
  "nbformat_minor": 5
}